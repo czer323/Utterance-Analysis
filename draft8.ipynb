{
 "cells": [
  {
   "cell_type": "code",
   "execution_count": 32,
   "metadata": {},
   "outputs": [
    {
     "name": "stdout",
     "output_type": "stream",
     "text": [
      "Keywords have been extracted and saved to 'keywords.csv'.\n"
     ]
    },
    {
     "name": "stderr",
     "output_type": "stream",
     "text": [
      "2024-09-26 08:19:33,141 - INFO - Accuracy Score: 97.70%\n"
     ]
    },
    {
     "data": {
      "text/html": [
       "<div>\n",
       "<style scoped>\n",
       "    .dataframe tbody tr th:only-of-type {\n",
       "        vertical-align: middle;\n",
       "    }\n",
       "\n",
       "    .dataframe tbody tr th {\n",
       "        vertical-align: top;\n",
       "    }\n",
       "\n",
       "    .dataframe thead th {\n",
       "        text-align: right;\n",
       "    }\n",
       "</style>\n",
       "<table border=\"1\" class=\"dataframe\">\n",
       "  <thead>\n",
       "    <tr style=\"text-align: right;\">\n",
       "      <th></th>\n",
       "      <th>Keyword</th>\n",
       "      <th>Intent</th>\n",
       "      <th>Count</th>\n",
       "    </tr>\n",
       "  </thead>\n",
       "  <tbody>\n",
       "    <tr>\n",
       "      <th>0</th>\n",
       "      <td>see</td>\n",
       "      <td>get_invoice</td>\n",
       "      <td>31</td>\n",
       "    </tr>\n",
       "    <tr>\n",
       "      <th>1</th>\n",
       "      <td>account</td>\n",
       "      <td>create_account</td>\n",
       "      <td>20</td>\n",
       "    </tr>\n",
       "    <tr>\n",
       "      <th>2</th>\n",
       "      <td>invoice</td>\n",
       "      <td>get_invoice</td>\n",
       "      <td>16</td>\n",
       "    </tr>\n",
       "    <tr>\n",
       "      <th>3</th>\n",
       "      <td>bill</td>\n",
       "      <td>get_invoice</td>\n",
       "      <td>14</td>\n",
       "    </tr>\n",
       "    <tr>\n",
       "      <th>4</th>\n",
       "      <td>information</td>\n",
       "      <td>get_invoice</td>\n",
       "      <td>11</td>\n",
       "    </tr>\n",
       "    <tr>\n",
       "      <th>5</th>\n",
       "      <td>make</td>\n",
       "      <td>place_order</td>\n",
       "      <td>10</td>\n",
       "    </tr>\n",
       "    <tr>\n",
       "      <th>6</th>\n",
       "      <td>ask</td>\n",
       "      <td>get_invoice</td>\n",
       "      <td>10</td>\n",
       "    </tr>\n",
       "    <tr>\n",
       "      <th>7</th>\n",
       "      <td>want</td>\n",
       "      <td>get_invoice</td>\n",
       "      <td>10</td>\n",
       "    </tr>\n",
       "    <tr>\n",
       "      <th>8</th>\n",
       "      <td>agent</td>\n",
       "      <td>get_invoice</td>\n",
       "      <td>8</td>\n",
       "    </tr>\n",
       "    <tr>\n",
       "      <th>9</th>\n",
       "      <td>help</td>\n",
       "      <td>create_account</td>\n",
       "      <td>8</td>\n",
       "    </tr>\n",
       "  </tbody>\n",
       "</table>\n",
       "</div>"
      ],
      "text/plain": [
       "       Keyword          Intent  Count\n",
       "0          see     get_invoice     31\n",
       "1      account  create_account     20\n",
       "2      invoice     get_invoice     16\n",
       "3         bill     get_invoice     14\n",
       "4  information     get_invoice     11\n",
       "5         make     place_order     10\n",
       "6          ask     get_invoice     10\n",
       "7         want     get_invoice     10\n",
       "8        agent     get_invoice      8\n",
       "9         help  create_account      8"
      ]
     },
     "metadata": {},
     "output_type": "display_data"
    },
    {
     "name": "stderr",
     "output_type": "stream",
     "text": [
      "2024-09-26 08:19:33,152 - INFO - New stopwords have been saved to 'new_stopwords.txt'.\n",
      "2024-09-26 08:19:38,453 - INFO - Accuracy Score: 96.80%\n"
     ]
    },
    {
     "data": {
      "text/html": [
       "<div>\n",
       "<style scoped>\n",
       "    .dataframe tbody tr th:only-of-type {\n",
       "        vertical-align: middle;\n",
       "    }\n",
       "\n",
       "    .dataframe tbody tr th {\n",
       "        vertical-align: top;\n",
       "    }\n",
       "\n",
       "    .dataframe thead th {\n",
       "        text-align: right;\n",
       "    }\n",
       "</style>\n",
       "<table border=\"1\" class=\"dataframe\">\n",
       "  <thead>\n",
       "    <tr style=\"text-align: right;\">\n",
       "      <th></th>\n",
       "      <th>Keyword</th>\n",
       "      <th>Intent</th>\n",
       "      <th>Count</th>\n",
       "    </tr>\n",
       "  </thead>\n",
       "  <tbody>\n",
       "    <tr>\n",
       "      <th>0</th>\n",
       "      <td>ask</td>\n",
       "      <td>get_invoice</td>\n",
       "      <td>38</td>\n",
       "    </tr>\n",
       "    <tr>\n",
       "      <th>1</th>\n",
       "      <td>agent</td>\n",
       "      <td>get_invoice</td>\n",
       "      <td>37</td>\n",
       "    </tr>\n",
       "    <tr>\n",
       "      <th>2</th>\n",
       "      <td>see</td>\n",
       "      <td>get_invoice</td>\n",
       "      <td>31</td>\n",
       "    </tr>\n",
       "    <tr>\n",
       "      <th>3</th>\n",
       "      <td>account</td>\n",
       "      <td>create_account</td>\n",
       "      <td>27</td>\n",
       "    </tr>\n",
       "    <tr>\n",
       "      <th>4</th>\n",
       "      <td>invoice</td>\n",
       "      <td>get_invoice</td>\n",
       "      <td>25</td>\n",
       "    </tr>\n",
       "    <tr>\n",
       "      <th>5</th>\n",
       "      <td>bill</td>\n",
       "      <td>get_invoice</td>\n",
       "      <td>20</td>\n",
       "    </tr>\n",
       "    <tr>\n",
       "      <th>6</th>\n",
       "      <td>help</td>\n",
       "      <td>create_account</td>\n",
       "      <td>18</td>\n",
       "    </tr>\n",
       "    <tr>\n",
       "      <th>7</th>\n",
       "      <td>information</td>\n",
       "      <td>get_invoice</td>\n",
       "      <td>16</td>\n",
       "    </tr>\n",
       "    <tr>\n",
       "      <th>8</th>\n",
       "      <td>could</td>\n",
       "      <td>get_invoice</td>\n",
       "      <td>11</td>\n",
       "    </tr>\n",
       "    <tr>\n",
       "      <th>9</th>\n",
       "      <td>make</td>\n",
       "      <td>place_order</td>\n",
       "      <td>10</td>\n",
       "    </tr>\n",
       "  </tbody>\n",
       "</table>\n",
       "</div>"
      ],
      "text/plain": [
       "       Keyword          Intent  Count\n",
       "0          ask     get_invoice     38\n",
       "1        agent     get_invoice     37\n",
       "2          see     get_invoice     31\n",
       "3      account  create_account     27\n",
       "4      invoice     get_invoice     25\n",
       "5         bill     get_invoice     20\n",
       "6         help  create_account     18\n",
       "7  information     get_invoice     16\n",
       "8        could     get_invoice     11\n",
       "9         make     place_order     10"
      ]
     },
     "metadata": {},
     "output_type": "display_data"
    }
   ],
   "source": [
    "import pandas as pd\n",
    "from sklearn.feature_extraction.text import TfidfVectorizer\n",
    "from sklearn.model_selection import StratifiedShuffleSplit\n",
    "from sklearn.naive_bayes import MultinomialNB\n",
    "from sklearn.metrics import accuracy_score\n",
    "from nltk.corpus import stopwords\n",
    "from nltk.stem import WordNetLemmatizer\n",
    "from nltk.tokenize import word_tokenize\n",
    "from nltk.corpus import wordnet\n",
    "import nltk\n",
    "import logging\n",
    "\n",
    "# Setup logging\n",
    "logging.basicConfig(level=logging.INFO, format='%(asctime)s - %(levelname)s - %(message)s')\n",
    "\n",
    "# Download necessary NLTK data\n",
    "nltk.download('averaged_perceptron_tagger', quiet=True)\n",
    "nltk.download('wordnet', quiet=True)\n",
    "nltk.download('punkt', quiet=True)\n",
    "nltk.download('stopwords', quiet=True)\n",
    "\n",
    "# Initialize lemmatizer and stopwords\n",
    "lemmatizer = WordNetLemmatizer()\n",
    "stop_words = set(stopwords.words('english'))\n",
    "\n",
    "# Constants\n",
    "CSV_FILE_PATH = 'utterance.csv'\n",
    "KEYWORDS_CSV_FILE_PATH = 'keywords.csv'\n",
    "TOP_N_KEYWORDS = 200\n",
    "NGRAM_RANGE = (1, 3)\n",
    "TOP_PREDICT = 1\n",
    "\n",
    "\n",
    "def load_data(file_path):\n",
    "    \"\"\"Load and preprocess data from a CSV file.\"\"\"\n",
    "    data = pd.read_csv(file_path)\n",
    "    data['utterance'] = data['utterance'].apply(lambda x: preprocess_text(x, stop_words))\n",
    "    return data\n",
    "\n",
    "def get_wordnet_pos(tag):\n",
    "    \"\"\"Map NLTK POS tags to WordNet POS tags.\"\"\"\n",
    "    if tag.startswith('J'):\n",
    "        return wordnet.ADJ\n",
    "    elif tag.startswith('V'):\n",
    "        return wordnet.VERB\n",
    "    elif tag.startswith('N'):\n",
    "        return wordnet.NOUN\n",
    "    elif tag.startswith('R'):\n",
    "        return wordnet.ADV\n",
    "    else:\n",
    "        return wordnet.NOUN\n",
    "\n",
    "\n",
    "def preprocess_text(text, stop_words):\n",
    "    \"\"\"Preprocess text by tokenizing, removing stopwords, and lemmatizing.\"\"\"\n",
    "    try:\n",
    "        tokens = word_tokenize(text.lower())\n",
    "        tokens = [word for word in tokens if word.isalnum() and word not in stop_words]\n",
    "        pos_tags = nltk.pos_tag(tokens)\n",
    "        lemmatized_tokens = [lemmatizer.lemmatize(word, get_wordnet_pos(tag)) for word, tag in pos_tags]\n",
    "        return ' '.join(lemmatized_tokens)\n",
    "    except Exception as e:\n",
    "        logging.error(f\"Error processing text: {e}\")\n",
    "        return text\n",
    "\n",
    "\n",
    "def split_data(data):\n",
    "    \"\"\"Split data into training and testing sets.\"\"\"\n",
    "    split = StratifiedShuffleSplit(n_splits=1, test_size=0.2, random_state=41)\n",
    "    for train_index, test_index in split.split(data, data['intent']):\n",
    "        train_data = data.loc[train_index]\n",
    "        test_data = data.loc[test_index]\n",
    "    return train_data, test_data\n",
    "\n",
    "\n",
    "def extract_and_save_keywords(train_data, stop_words, max_features=TOP_N_KEYWORDS, ngram_range=NGRAM_RANGE, output_file=KEYWORDS_CSV_FILE_PATH):\n",
    "    \"\"\"Extract and save keywords to a CSV file.\"\"\"\n",
    "    keywords_list = []\n",
    "\n",
    "    for (category, intent) in train_data[['category', 'intent']].drop_duplicates().itertuples(index=False):\n",
    "        intent_data = train_data[(train_data['category'] == category) & (train_data['intent'] == intent)]\n",
    "        intent_vectorizer = TfidfVectorizer(max_features=max_features, stop_words=list(stop_words), ngram_range=ngram_range)\n",
    "        intent_X = intent_vectorizer.fit_transform(intent_data['utterance'])\n",
    "        feature_names = intent_vectorizer.get_feature_names_out()\n",
    "        tfidf_scores = intent_X.mean(axis=0).A1  # Average TF-IDF scores for each keyword\n",
    "\n",
    "        for keyword, score in zip(feature_names, tfidf_scores):\n",
    "            keywords_list.append({\n",
    "                'category': category,\n",
    "                'intent': intent,\n",
    "                'keyword': keyword,\n",
    "                'tfidf score': score\n",
    "            })\n",
    "\n",
    "    keywords_df = pd.DataFrame(keywords_list)\n",
    "    keywords_df.to_csv(output_file, index=False)\n",
    "\n",
    "\n",
    "    print(f\"Keywords have been extracted and saved to '{output_file}'.\")\n",
    "\n",
    "\n",
    "def get_top_n_intents(utterance, keywords_dict, n=TOP_PREDICT):\n",
    "    \"\"\"Get the top N intents for a given utterance.\"\"\"\n",
    "    words = set(utterance.split())\n",
    "    intent_scores = {intent: len(words & keywords) for intent, keywords in keywords_dict.items()}\n",
    "    sorted_intents = sorted(intent_scores, key=intent_scores.get, reverse=True)[:n]\n",
    "\n",
    "    return sorted_intents, words & keywords_dict[sorted_intents[0]]\n",
    "\n",
    "\n",
    "def identify_inaccurate_keywords(test_data):\n",
    "    \"\"\"Identify the most common inaccurate keywords and their associated intents.\"\"\"\n",
    "    mismatches = test_data[test_data['is_accurate'] == False]\n",
    "    keyword_intent_pairs = mismatches.explode('keywords_used')[['keywords_used', 'intent']]\n",
    "    keyword_intent_counts = keyword_intent_pairs.value_counts().reset_index(name='Count')\n",
    "    keyword_intent_counts.columns = ['Keyword', 'Intent', 'Count']\n",
    "    most_inaccurate_keywords = keyword_intent_counts.head(10)\n",
    "    \n",
    "    return most_inaccurate_keywords\n",
    "\n",
    "def predict_intents(test_data, keywords_dict, top_predict=TOP_PREDICT):\n",
    "    \"\"\"Predict top N intents and calculate accuracy.\"\"\"\n",
    "    test_data['top_predict_intents'], test_data['keywords_used'] = zip(*test_data['utterance'].apply(lambda x: get_top_n_intents(x, keywords_dict, n=top_predict)))\n",
    "    test_data['is_accurate'] = test_data.apply(lambda row: row['intent'] in row['top_predict_intents'], axis=1)\n",
    "    accuracy_score_value = test_data['is_accurate'].mean()\n",
    "    logging.info(f\"Accuracy Score: {accuracy_score_value * 100:.2f}%\")\n",
    "    return test_data\n",
    "\n",
    "\n",
    "# Load and preprocess data\n",
    "data = load_data(CSV_FILE_PATH)\n",
    "\n",
    "# Split data\n",
    "train_data, test_data = split_data(data)\n",
    "\n",
    "# Extract and save keywords\n",
    "extract_and_save_keywords(train_data, stop_words)\n",
    "\n",
    "# Load keywords\n",
    "keywords_df = pd.read_csv(KEYWORDS_CSV_FILE_PATH)\n",
    "keywords_dict = {}\n",
    "for _, row in keywords_df.iterrows():\n",
    "    if row['intent'] not in keywords_dict:\n",
    "        keywords_dict[row['intent']] = set()\n",
    "    keywords_dict[row['intent']].add(row['keyword'])\n",
    "\n",
    "# Predict top N intents for the test data\n",
    "test_data = predict_intents(test_data, keywords_dict)\n",
    "\n",
    "# Identify inaccurate keywords\n",
    "most_inaccurate_keywords = identify_inaccurate_keywords(test_data)\n",
    "display(most_inaccurate_keywords)\n",
    "\n",
    "# Extract the most common inaccurate keywords to use as stopwords for each intent\n",
    "new_stopwords_dict = most_inaccurate_keywords.set_index('Intent')['Keyword'].to_dict()\n",
    "\n",
    "# Save the new stopwords to a file\n",
    "with open('new_stopwords.txt', 'w') as f:\n",
    "    for intent, word in new_stopwords_dict.items():\n",
    "        f.write(f\"{intent}: {word}\\n\")\n",
    "logging.info(\"New stopwords have been saved to 'new_stopwords.txt'.\")\n",
    "\n",
    "# Update the stopwords with the new stopwords per intent\n",
    "updated_stop_words = stop_words.union(new_stopwords_dict.values())\n",
    "\n",
    "# Apply the updated preprocessing function to the utterance data\n",
    "data['utterance'] = data['utterance'].apply(lambda x: preprocess_text(x, updated_stop_words))\n",
    "\n",
    "# Remove the new stopwords from the keywords for the associated intents\n",
    "for intent, stopword in new_stopwords_dict.items():\n",
    "    if intent in keywords_dict:\n",
    "        keywords_dict[intent].discard(stopword)\n",
    "\n",
    "# Predict top N intents for the test data again with updated stopwords\n",
    "test_data = predict_intents(test_data, keywords_dict)\n",
    "\n",
    "# Identify inaccurate keywords\n",
    "most_inaccurate_keywords = identify_inaccurate_keywords(test_data)\n",
    "display(most_inaccurate_keywords)"
   ]
  },
  {
   "cell_type": "code",
   "execution_count": 29,
   "metadata": {},
   "outputs": [
    {
     "name": "stderr",
     "output_type": "stream",
     "text": [
      "2024-09-26 07:51:00,884 - INFO - Accuracy Score: 87.35%\n",
      "2024-09-26 07:51:00,890 - INFO - ngram_range: (1, 1), top_n_keywords: 10, accuracy: 0.87\n"
     ]
    },
    {
     "name": "stdout",
     "output_type": "stream",
     "text": [
      "Keywords have been extracted and saved to 'keywords.csv'.\n"
     ]
    },
    {
     "name": "stderr",
     "output_type": "stream",
     "text": [
      "2024-09-26 07:51:07,388 - INFO - Accuracy Score: 96.80%\n"
     ]
    },
    {
     "name": "stdout",
     "output_type": "stream",
     "text": [
      "Keywords have been extracted and saved to 'keywords.csv'.\n"
     ]
    },
    {
     "name": "stderr",
     "output_type": "stream",
     "text": [
      "2024-09-26 07:51:07,394 - INFO - ngram_range: (1, 1), top_n_keywords: 25, accuracy: 0.97\n",
      "2024-09-26 07:51:13,667 - INFO - Accuracy Score: 97.38%\n",
      "2024-09-26 07:51:13,674 - INFO - ngram_range: (1, 1), top_n_keywords: 50, accuracy: 0.97\n"
     ]
    },
    {
     "name": "stdout",
     "output_type": "stream",
     "text": [
      "Keywords have been extracted and saved to 'keywords.csv'.\n"
     ]
    },
    {
     "name": "stderr",
     "output_type": "stream",
     "text": [
      "2024-09-26 07:51:20,078 - INFO - Accuracy Score: 96.89%\n",
      "2024-09-26 07:51:20,084 - INFO - ngram_range: (1, 1), top_n_keywords: 100, accuracy: 0.97\n"
     ]
    },
    {
     "name": "stdout",
     "output_type": "stream",
     "text": [
      "Keywords have been extracted and saved to 'keywords.csv'.\n"
     ]
    },
    {
     "name": "stderr",
     "output_type": "stream",
     "text": [
      "2024-09-26 07:51:26,371 - INFO - Accuracy Score: 96.87%\n",
      "2024-09-26 07:51:26,377 - INFO - ngram_range: (1, 1), top_n_keywords: 150, accuracy: 0.97\n"
     ]
    },
    {
     "name": "stdout",
     "output_type": "stream",
     "text": [
      "Keywords have been extracted and saved to 'keywords.csv'.\n"
     ]
    },
    {
     "name": "stderr",
     "output_type": "stream",
     "text": [
      "2024-09-26 07:51:32,608 - INFO - Accuracy Score: 96.87%\n",
      "2024-09-26 07:51:32,614 - INFO - ngram_range: (1, 1), top_n_keywords: 200, accuracy: 0.97\n"
     ]
    },
    {
     "name": "stdout",
     "output_type": "stream",
     "text": [
      "Keywords have been extracted and saved to 'keywords.csv'.\n"
     ]
    },
    {
     "name": "stderr",
     "output_type": "stream",
     "text": [
      "2024-09-26 07:51:38,969 - INFO - Accuracy Score: 96.87%\n",
      "2024-09-26 07:51:38,975 - INFO - ngram_range: (1, 1), top_n_keywords: 400, accuracy: 0.97\n"
     ]
    },
    {
     "name": "stdout",
     "output_type": "stream",
     "text": [
      "Keywords have been extracted and saved to 'keywords.csv'.\n"
     ]
    },
    {
     "name": "stderr",
     "output_type": "stream",
     "text": [
      "2024-09-26 07:51:45,301 - INFO - Accuracy Score: 96.87%\n",
      "2024-09-26 07:51:45,307 - INFO - ngram_range: (1, 1), top_n_keywords: 600, accuracy: 0.97\n"
     ]
    },
    {
     "name": "stdout",
     "output_type": "stream",
     "text": [
      "Keywords have been extracted and saved to 'keywords.csv'.\n"
     ]
    },
    {
     "name": "stderr",
     "output_type": "stream",
     "text": [
      "2024-09-26 07:51:51,580 - INFO - Accuracy Score: 96.87%\n",
      "2024-09-26 07:51:51,586 - INFO - ngram_range: (1, 1), top_n_keywords: 800, accuracy: 0.97\n"
     ]
    },
    {
     "name": "stdout",
     "output_type": "stream",
     "text": [
      "Keywords have been extracted and saved to 'keywords.csv'.\n"
     ]
    },
    {
     "name": "stderr",
     "output_type": "stream",
     "text": [
      "2024-09-26 07:51:58,007 - INFO - Accuracy Score: 96.87%\n",
      "2024-09-26 07:51:58,013 - INFO - ngram_range: (1, 1), top_n_keywords: 1000, accuracy: 0.97\n"
     ]
    },
    {
     "name": "stdout",
     "output_type": "stream",
     "text": [
      "Keywords have been extracted and saved to 'keywords.csv'.\n"
     ]
    },
    {
     "name": "stderr",
     "output_type": "stream",
     "text": [
      "2024-09-26 07:52:04,507 - INFO - Accuracy Score: 85.74%\n",
      "2024-09-26 07:52:04,513 - INFO - ngram_range: (1, 2), top_n_keywords: 10, accuracy: 0.86\n"
     ]
    },
    {
     "name": "stdout",
     "output_type": "stream",
     "text": [
      "Keywords have been extracted and saved to 'keywords.csv'.\n"
     ]
    },
    {
     "name": "stderr",
     "output_type": "stream",
     "text": [
      "2024-09-26 07:52:10,737 - INFO - Accuracy Score: 93.17%\n",
      "2024-09-26 07:52:10,744 - INFO - ngram_range: (1, 2), top_n_keywords: 25, accuracy: 0.93\n"
     ]
    },
    {
     "name": "stdout",
     "output_type": "stream",
     "text": [
      "Keywords have been extracted and saved to 'keywords.csv'.\n"
     ]
    },
    {
     "name": "stderr",
     "output_type": "stream",
     "text": [
      "2024-09-26 07:52:17,055 - INFO - Accuracy Score: 96.15%\n",
      "2024-09-26 07:52:17,062 - INFO - ngram_range: (1, 2), top_n_keywords: 50, accuracy: 0.96\n"
     ]
    },
    {
     "name": "stdout",
     "output_type": "stream",
     "text": [
      "Keywords have been extracted and saved to 'keywords.csv'.\n"
     ]
    },
    {
     "name": "stderr",
     "output_type": "stream",
     "text": [
      "2024-09-26 07:52:23,585 - INFO - Accuracy Score: 97.65%\n",
      "2024-09-26 07:52:23,591 - INFO - ngram_range: (1, 2), top_n_keywords: 100, accuracy: 0.98\n"
     ]
    },
    {
     "name": "stdout",
     "output_type": "stream",
     "text": [
      "Keywords have been extracted and saved to 'keywords.csv'.\n",
      "Keywords have been extracted and saved to 'keywords.csv'.\n"
     ]
    },
    {
     "name": "stderr",
     "output_type": "stream",
     "text": [
      "2024-09-26 07:52:30,051 - INFO - Accuracy Score: 97.19%\n",
      "2024-09-26 07:52:30,058 - INFO - ngram_range: (1, 2), top_n_keywords: 150, accuracy: 0.97\n"
     ]
    },
    {
     "name": "stdout",
     "output_type": "stream",
     "text": [
      "Keywords have been extracted and saved to 'keywords.csv'.\n"
     ]
    },
    {
     "name": "stderr",
     "output_type": "stream",
     "text": [
      "2024-09-26 07:52:36,622 - INFO - Accuracy Score: 97.38%\n",
      "2024-09-26 07:52:36,628 - INFO - ngram_range: (1, 2), top_n_keywords: 200, accuracy: 0.97\n"
     ]
    },
    {
     "name": "stdout",
     "output_type": "stream",
     "text": [
      "Keywords have been extracted and saved to 'keywords.csv'.\n"
     ]
    },
    {
     "name": "stderr",
     "output_type": "stream",
     "text": [
      "2024-09-26 07:52:43,169 - INFO - Accuracy Score: 96.87%\n",
      "2024-09-26 07:52:43,176 - INFO - ngram_range: (1, 2), top_n_keywords: 400, accuracy: 0.97\n"
     ]
    },
    {
     "name": "stdout",
     "output_type": "stream",
     "text": [
      "Keywords have been extracted and saved to 'keywords.csv'.\n"
     ]
    },
    {
     "name": "stderr",
     "output_type": "stream",
     "text": [
      "2024-09-26 07:52:49,601 - INFO - Accuracy Score: 96.87%\n",
      "2024-09-26 07:52:49,608 - INFO - ngram_range: (1, 2), top_n_keywords: 600, accuracy: 0.97\n"
     ]
    },
    {
     "name": "stdout",
     "output_type": "stream",
     "text": [
      "Keywords have been extracted and saved to 'keywords.csv'.\n"
     ]
    },
    {
     "name": "stderr",
     "output_type": "stream",
     "text": [
      "2024-09-26 07:52:56,619 - INFO - Accuracy Score: 96.87%\n",
      "2024-09-26 07:52:56,625 - INFO - ngram_range: (1, 2), top_n_keywords: 800, accuracy: 0.97\n"
     ]
    },
    {
     "name": "stdout",
     "output_type": "stream",
     "text": [
      "Keywords have been extracted and saved to 'keywords.csv'.\n"
     ]
    },
    {
     "name": "stderr",
     "output_type": "stream",
     "text": [
      "2024-09-26 07:53:03,121 - INFO - Accuracy Score: 96.87%\n",
      "2024-09-26 07:53:03,128 - INFO - ngram_range: (1, 2), top_n_keywords: 1000, accuracy: 0.97\n",
      "2024-09-26 07:53:09,340 - INFO - Accuracy Score: 85.74%\n",
      "2024-09-26 07:53:09,346 - INFO - ngram_range: (1, 3), top_n_keywords: 10, accuracy: 0.86\n"
     ]
    },
    {
     "name": "stdout",
     "output_type": "stream",
     "text": [
      "Keywords have been extracted and saved to 'keywords.csv'.\n"
     ]
    },
    {
     "name": "stderr",
     "output_type": "stream",
     "text": [
      "2024-09-26 07:53:15,563 - INFO - Accuracy Score: 93.20%\n",
      "2024-09-26 07:53:15,569 - INFO - ngram_range: (1, 3), top_n_keywords: 25, accuracy: 0.93\n"
     ]
    },
    {
     "name": "stdout",
     "output_type": "stream",
     "text": [
      "Keywords have been extracted and saved to 'keywords.csv'.\n"
     ]
    },
    {
     "name": "stderr",
     "output_type": "stream",
     "text": [
      "2024-09-26 07:53:21,809 - INFO - Accuracy Score: 95.38%\n",
      "2024-09-26 07:53:21,816 - INFO - ngram_range: (1, 3), top_n_keywords: 50, accuracy: 0.95\n"
     ]
    },
    {
     "name": "stdout",
     "output_type": "stream",
     "text": [
      "Keywords have been extracted and saved to 'keywords.csv'.\n"
     ]
    },
    {
     "name": "stderr",
     "output_type": "stream",
     "text": [
      "2024-09-26 07:53:28,261 - INFO - Accuracy Score: 97.40%\n"
     ]
    },
    {
     "name": "stdout",
     "output_type": "stream",
     "text": [
      "Keywords have been extracted and saved to 'keywords.csv'.\n"
     ]
    },
    {
     "name": "stderr",
     "output_type": "stream",
     "text": [
      "2024-09-26 07:53:28,268 - INFO - ngram_range: (1, 3), top_n_keywords: 100, accuracy: 0.97\n"
     ]
    },
    {
     "name": "stdout",
     "output_type": "stream",
     "text": [
      "Keywords have been extracted and saved to 'keywords.csv'.\n"
     ]
    },
    {
     "name": "stderr",
     "output_type": "stream",
     "text": [
      "2024-09-26 07:53:34,757 - INFO - Accuracy Score: 97.54%\n",
      "2024-09-26 07:53:34,763 - INFO - ngram_range: (1, 3), top_n_keywords: 150, accuracy: 0.98\n"
     ]
    },
    {
     "name": "stdout",
     "output_type": "stream",
     "text": [
      "Keywords have been extracted and saved to 'keywords.csv'.\n"
     ]
    },
    {
     "name": "stderr",
     "output_type": "stream",
     "text": [
      "2024-09-26 07:53:41,251 - INFO - Accuracy Score: 97.70%\n",
      "2024-09-26 07:53:41,258 - INFO - ngram_range: (1, 3), top_n_keywords: 200, accuracy: 0.98\n"
     ]
    },
    {
     "name": "stdout",
     "output_type": "stream",
     "text": [
      "Keywords have been extracted and saved to 'keywords.csv'.\n"
     ]
    },
    {
     "name": "stderr",
     "output_type": "stream",
     "text": [
      "2024-09-26 07:53:47,861 - INFO - Accuracy Score: 97.40%\n",
      "2024-09-26 07:53:47,867 - INFO - ngram_range: (1, 3), top_n_keywords: 400, accuracy: 0.97\n"
     ]
    },
    {
     "name": "stdout",
     "output_type": "stream",
     "text": [
      "Keywords have been extracted and saved to 'keywords.csv'.\n"
     ]
    },
    {
     "name": "stderr",
     "output_type": "stream",
     "text": [
      "2024-09-26 07:53:55,295 - INFO - Accuracy Score: 97.24%\n",
      "2024-09-26 07:53:55,301 - INFO - ngram_range: (1, 3), top_n_keywords: 600, accuracy: 0.97\n"
     ]
    },
    {
     "name": "stdout",
     "output_type": "stream",
     "text": [
      "Keywords have been extracted and saved to 'keywords.csv'.\n"
     ]
    },
    {
     "name": "stderr",
     "output_type": "stream",
     "text": [
      "2024-09-26 07:54:02,261 - INFO - Accuracy Score: 96.89%\n",
      "2024-09-26 07:54:02,268 - INFO - ngram_range: (1, 3), top_n_keywords: 800, accuracy: 0.97\n"
     ]
    },
    {
     "name": "stdout",
     "output_type": "stream",
     "text": [
      "Keywords have been extracted and saved to 'keywords.csv'.\n"
     ]
    },
    {
     "name": "stderr",
     "output_type": "stream",
     "text": [
      "2024-09-26 07:54:09,057 - INFO - Accuracy Score: 96.84%\n",
      "2024-09-26 07:54:09,064 - INFO - ngram_range: (1, 3), top_n_keywords: 1000, accuracy: 0.97\n",
      "2024-09-26 07:54:09,066 - INFO - Best combination: ngram_range=(1, 3), top_n_keywords=200, accuracy=0.98\n"
     ]
    },
    {
     "name": "stdout",
     "output_type": "stream",
     "text": [
      "   ngram_range  top_n_keywords  accuracy\n",
      "0       (1, 1)              10  0.873462\n",
      "1       (1, 1)              25  0.967959\n",
      "2       (1, 1)              50  0.973764\n",
      "3       (1, 1)             100  0.968888\n",
      "4       (1, 1)             150  0.968656\n",
      "5       (1, 1)             200  0.968656\n",
      "6       (1, 1)             400  0.968656\n",
      "7       (1, 1)             600  0.968656\n",
      "8       (1, 1)             800  0.968656\n",
      "9       (1, 1)            1000  0.968656\n",
      "10      (1, 2)              10  0.857441\n",
      "11      (1, 2)              25  0.931739\n",
      "12      (1, 2)              50  0.961458\n",
      "13      (1, 2)             100  0.976550\n",
      "14      (1, 2)             150  0.971906\n",
      "15      (1, 2)             200  0.973764\n",
      "16      (1, 2)             400  0.968656\n",
      "17      (1, 2)             600  0.968656\n",
      "18      (1, 2)             800  0.968656\n",
      "19      (1, 2)            1000  0.968656\n",
      "20      (1, 3)              10  0.857441\n",
      "21      (1, 3)              25  0.931971\n",
      "22      (1, 3)              50  0.953796\n",
      "23      (1, 3)             100  0.973996\n",
      "24      (1, 3)             150  0.975389\n",
      "25      (1, 3)             200  0.977014\n",
      "26      (1, 3)             400  0.973996\n",
      "27      (1, 3)             600  0.972371\n",
      "28      (1, 3)             800  0.968888\n",
      "29      (1, 3)            1000  0.968423\n",
      "Best combination: ngram_range=(1, 3), top_n_keywords=200, accuracy=0.98\n"
     ]
    }
   ],
   "source": [
    "# Parameter grid\n",
    "ngram_ranges = [(1, 1), (1, 2), (1, 3)]\n",
    "top_n_keywords_list = [10, 25, 50, 100, 150, 200, 400, 600, 800, 1000]\n",
    "\n",
    "\n",
    "# Function to run the entire process with given parameters\n",
    "def run_process(ngram_range, top_n_keywords):\n",
    "    # Load and preprocess data\n",
    "    data = load_data(CSV_FILE_PATH)\n",
    "    \n",
    "    # Split data\n",
    "    train_data, test_data = split_data(data)\n",
    "    \n",
    "    # Extract and save keywords\n",
    "    extract_and_save_keywords(train_data, stop_words, max_features=top_n_keywords, ngram_range=ngram_range)\n",
    "    \n",
    "    # Load keywords\n",
    "    keywords_df = pd.read_csv(KEYWORDS_CSV_FILE_PATH)\n",
    "    keywords_dict = {}\n",
    "    for _, row in keywords_df.iterrows():\n",
    "        if row['intent'] not in keywords_dict:\n",
    "            keywords_dict[row['intent']] = set()\n",
    "        keywords_dict[row['intent']].add(row['keyword'])\n",
    "    \n",
    "    # Predict top N intents for the test data\n",
    "    test_data = predict_intents(test_data, keywords_dict)\n",
    "    \n",
    "    # Calculate accuracy\n",
    "    accuracy = accuracy_score(test_data['intent'], test_data['top_predict_intents'].apply(lambda x: x[0]))\n",
    "    \n",
    "    return accuracy\n",
    "\n",
    "# List to store results\n",
    "results = []\n",
    "\n",
    "# Iterate over the parameter grid\n",
    "for ngram_range in ngram_ranges:\n",
    "    for top_n_keywords in top_n_keywords_list:\n",
    "        accuracy = run_process(ngram_range, top_n_keywords)\n",
    "        results.append({\n",
    "            'ngram_range': ngram_range,\n",
    "            'top_n_keywords': top_n_keywords,\n",
    "            'accuracy': accuracy\n",
    "        })\n",
    "        logging.info(f\"ngram_range: {ngram_range}, top_n_keywords: {top_n_keywords}, accuracy: {accuracy:.2f}\")\n",
    "\n",
    "# Convert results to DataFrame for easy analysis\n",
    "results_df = pd.DataFrame(results)\n",
    "\n",
    "# Identify the best combination\n",
    "best_result = results_df.loc[results_df['accuracy'].idxmax()]\n",
    "logging.info(f\"Best combination: ngram_range={best_result['ngram_range']}, top_n_keywords={best_result['top_n_keywords']}, accuracy={best_result['accuracy']:.2f}\")\n",
    "\n",
    "# Display the results\n",
    "print(results_df)\n",
    "print(f\"Best combination: ngram_range={best_result['ngram_range']}, top_n_keywords={best_result['top_n_keywords']}, accuracy={best_result['accuracy']:.2f}\")"
   ]
  },
  {
   "cell_type": "code",
   "execution_count": 30,
   "metadata": {},
   "outputs": [
    {
     "data": {
      "image/png": "[encoded data removed]",
      "text/plain": [
       "<Figure size 1000x600 with 1 Axes>"
      ]
     },
     "metadata": {},
     "output_type": "display_data"
    }
   ],
   "source": [
    "import matplotlib.pyplot as plt\n",
    "\n",
    "# Create a figure and axis\n",
    "plt.figure(figsize=(10, 6))\n",
    "\n",
    "# Plot each ngram range as a separate line\n",
    "for ngram_range in results_df['ngram_range'].unique():\n",
    "    subset = results_df[results_df['ngram_range'] == ngram_range]\n",
    "    plt.plot(subset['top_n_keywords'], subset['accuracy'], marker='o', label=f'Ngram Range: {ngram_range}')\n",
    "\n",
    "# Add labels and title\n",
    "plt.xlabel('Number of Keywords')\n",
    "plt.ylabel('Accuracy')\n",
    "plt.title('Accuracy vs Number of Keywords for Different Ngram Ranges')\n",
    "plt.legend()\n",
    "plt.grid(True)\n",
    "\n",
    "# Show the plot\n",
    "plt.show()"
   ]
  }
 ],
 "metadata": {
  "kernelspec": {
   "display_name": ".venv",
   "language": "python",
   "name": "python3"
  },
  "language_info": {
   "codemirror_mode": {
    "name": "ipython",
    "version": 3
   },
   "file_extension": ".py",
   "mimetype": "text/x-python",
   "name": "python",
   "nbconvert_exporter": "python",
   "pygments_lexer": "ipython3",
   "version": "3.12.4"
  }
 },
 "nbformat": 4,
 "nbformat_minor": 2
}
